{
 "cells": [
  {
   "cell_type": "code",
   "execution_count": null,
   "metadata": {},
   "outputs": [],
   "source": []
  },
  {
   "cell_type": "code",
   "execution_count": 1,
   "metadata": {},
   "outputs": [],
   "source": [
    "import sqlite3\n",
    "import os\n",
    "import json"
   ]
  },
  {
   "cell_type": "code",
   "execution_count": null,
   "metadata": {},
   "outputs": [],
   "source": [
    "from models.model import User, Unit\n",
    "from extentions import db\n",
    "from run import app\n",
    "\n",
    "with app.app_context():\n",
    "\n",
    "    users = User.query.all()\n",
    "    users = [n.as_dict() for n in users]\n",
    "    units = [n.as_dict() for n in users[3]['units']]\n",
    "    print(users)\n",
    "    print(units)"
   ]
  },
  {
   "cell_type": "code",
   "execution_count": 1,
   "metadata": {},
   "outputs": [
    {
     "name": "stdout",
     "output_type": "stream",
     "text": [
      "2023-11-04 18:51:08,463 INFO sqlalchemy.engine.Engine BEGIN (implicit)\n",
      "2023-11-04 18:51:08,467 INFO sqlalchemy.engine.Engine SELECT users.id AS users_id, users.username AS users_username, users.password AS users_password, users.password_hash AS users_password_hash, users.admin AS users_admin \n",
      "FROM users \n",
      "WHERE users.username = ?\n",
      "2023-11-04 18:51:08,468 INFO sqlalchemy.engine.Engine [generated in 0.00082s] ('enemy',)\n",
      "2023-11-04 18:51:08,473 INFO sqlalchemy.engine.Engine SELECT units.unitid AS units_unitid, units.name AS units_name, units.\"desc\" AS units_desc, units.new_col AS units_new_col, units.photo AS units_photo, units.joining_date AS units_joining_date, units.author AS units_author \n",
      "FROM units \n",
      "WHERE ? = units.author\n",
      "2023-11-04 18:51:08,474 INFO sqlalchemy.engine.Engine [generated in 0.00108s] (1,)\n",
      "[{'unitid': 1, 'name': 'enemy', 'desc': 'role warrior', 'author': 1, 'new_col': 'change me'}]\n",
      "2023-11-04 18:51:08,476 INFO sqlalchemy.engine.Engine ROLLBACK\n"
     ]
    }
   ],
   "source": [
    "from models.model import User, Unit\n",
    "from extentions import db\n",
    "from run import app\n",
    "\n",
    "with app.app_context():\n",
    "\n",
    "    users = User.query.filter_by(username='enemy')\n",
    "    users = [n.as_dict() for n in users]\n",
    "    units = [n.as_dict() for n in users[0]['units']]\n",
    "    # print(users)\n",
    "    print(units)"
   ]
  },
  {
   "cell_type": "code",
   "execution_count": 10,
   "metadata": {},
   "outputs": [
    {
     "ename": "AttributeError",
     "evalue": "'InstrumentedList' object has no attribute 'as_dict'",
     "output_type": "error",
     "traceback": [
      "\u001b[1;31m---------------------------------------------------------------------------\u001b[0m",
      "\u001b[1;31mAttributeError\u001b[0m                            Traceback (most recent call last)",
      "\u001b[1;32mc:\\Users\\olegs\\Downloads\\programming\\frameworks\\flask\\CRUD\\crudapp\\Untitle.ipynb Cell 17\u001b[0m line \u001b[0;36m1\n\u001b[1;32m----> <a href='vscode-notebook-cell:/c%3A/Users/olegs/Downloads/programming/frameworks/flask/CRUD/crudapp/Untitle.ipynb#X25sZmlsZQ%3D%3D?line=0'>1</a>\u001b[0m users[\u001b[39m0\u001b[39;49m][\u001b[39m'\u001b[39;49m\u001b[39munits\u001b[39;49m\u001b[39m'\u001b[39;49m]\u001b[39m.\u001b[39;49mas_dict()\n",
      "\u001b[1;31mAttributeError\u001b[0m: 'InstrumentedList' object has no attribute 'as_dict'"
     ]
    }
   ],
   "source": [
    "users[0]['units'].as_dict()"
   ]
  },
  {
   "cell_type": "code",
   "execution_count": null,
   "metadata": {},
   "outputs": [],
   "source": [
    "# if add migrate in the rel появляется new col not appears;\n",
    "# TODO:  ai query if after migrate in the `units` col of user table not appears `new_col`"
   ]
  },
  {
   "cell_type": "code",
   "execution_count": 11,
   "metadata": {},
   "outputs": [
    {
     "ename": "TypeError",
     "evalue": "can only concatenate str (not \"int\") to str",
     "output_type": "error",
     "traceback": [
      "\u001b[1;31m---------------------------------------------------------------------------\u001b[0m",
      "\u001b[1;31mTypeError\u001b[0m                                 Traceback (most recent call last)",
      "\u001b[1;32mc:\\pyCharmProjects\\jupyter_tmp_new\\frameworks\\flask\\CRUD\\crudapp_migrate\\Untitle.ipynb Cell 20\u001b[0m line \u001b[0;36m1\n\u001b[0;32m      <a href='vscode-notebook-cell:/c%3A/pyCharmProjects/jupyter_tmp_new/frameworks/flask/CRUD/crudapp_migrate/Untitle.ipynb#X25sZmlsZQ%3D%3D?line=6'>7</a>\u001b[0m users \u001b[39m=\u001b[39m User\u001b[39m.\u001b[39mquery\u001b[39m.\u001b[39mfilter_by(username\u001b[39m=\u001b[39m\u001b[39m'\u001b[39m\u001b[39munit\u001b[39m\u001b[39m'\u001b[39m)\n\u001b[0;32m      <a href='vscode-notebook-cell:/c%3A/pyCharmProjects/jupyter_tmp_new/frameworks/flask/CRUD/crudapp_migrate/Untitle.ipynb#X25sZmlsZQ%3D%3D?line=7'>8</a>\u001b[0m \u001b[39m# users = User.query.all()\u001b[39;00m\n\u001b[0;32m      <a href='vscode-notebook-cell:/c%3A/pyCharmProjects/jupyter_tmp_new/frameworks/flask/CRUD/crudapp_migrate/Untitle.ipynb#X25sZmlsZQ%3D%3D?line=8'>9</a>\u001b[0m \u001b[39m# units = Unit.query.all()\u001b[39;00m\n\u001b[0;32m     <a href='vscode-notebook-cell:/c%3A/pyCharmProjects/jupyter_tmp_new/frameworks/flask/CRUD/crudapp_migrate/Untitle.ipynb#X25sZmlsZQ%3D%3D?line=9'>10</a>\u001b[0m \u001b[39m# units_data = [n.as_dict() for n in units]\u001b[39;00m\n\u001b[1;32m---> <a href='vscode-notebook-cell:/c%3A/pyCharmProjects/jupyter_tmp_new/frameworks/flask/CRUD/crudapp_migrate/Untitle.ipynb#X25sZmlsZQ%3D%3D?line=10'>11</a>\u001b[0m users \u001b[39m=\u001b[39m [n\u001b[39m.\u001b[39mas_dict() \u001b[39mfor\u001b[39;00m n \u001b[39min\u001b[39;00m users[\u001b[39m'\u001b[39;49m\u001b[39munits\u001b[39;49m\u001b[39m'\u001b[39;49m]]\n\u001b[0;32m     <a href='vscode-notebook-cell:/c%3A/pyCharmProjects/jupyter_tmp_new/frameworks/flask/CRUD/crudapp_migrate/Untitle.ipynb#X25sZmlsZQ%3D%3D?line=11'>12</a>\u001b[0m \u001b[39m# units = [n.as_dict() for n in users[0]['units']]\u001b[39;00m\n\u001b[0;32m     <a href='vscode-notebook-cell:/c%3A/pyCharmProjects/jupyter_tmp_new/frameworks/flask/CRUD/crudapp_migrate/Untitle.ipynb#X25sZmlsZQ%3D%3D?line=12'>13</a>\u001b[0m \u001b[39mprint\u001b[39m(users)\n",
      "File \u001b[1;32mc:\\pyCharmProjects\\jupyter_tmp_new\\venv_framework\\Lib\\site-packages\\sqlalchemy\\orm\\query.py:2551\u001b[0m, in \u001b[0;36mQuery.__getitem__\u001b[1;34m(self, item)\u001b[0m\n\u001b[0;32m   2550\u001b[0m \u001b[39mdef\u001b[39;00m \u001b[39m__getitem__\u001b[39m(\u001b[39mself\u001b[39m, item: Any) \u001b[39m-\u001b[39m\u001b[39m>\u001b[39m Any:\n\u001b[1;32m-> 2551\u001b[0m     \u001b[39mreturn\u001b[39;00m orm_util\u001b[39m.\u001b[39;49m_getitem(\n\u001b[0;32m   2552\u001b[0m         \u001b[39mself\u001b[39;49m,\n\u001b[0;32m   2553\u001b[0m         item,\n\u001b[0;32m   2554\u001b[0m     )\n",
      "File \u001b[1;32mc:\\pyCharmProjects\\jupyter_tmp_new\\venv_framework\\Lib\\site-packages\\sqlalchemy\\orm\\util.py:2195\u001b[0m, in \u001b[0;36m_getitem\u001b[1;34m(iterable_query, item)\u001b[0m\n\u001b[0;32m   2193\u001b[0m     _no_negative_indexes()\n\u001b[0;32m   2194\u001b[0m \u001b[39melse\u001b[39;00m:\n\u001b[1;32m-> 2195\u001b[0m     \u001b[39mreturn\u001b[39;00m \u001b[39mlist\u001b[39m(iterable_query[item : item \u001b[39m+\u001b[39;49m \u001b[39m1\u001b[39;49m])[\u001b[39m0\u001b[39m]\n",
      "\u001b[1;31mTypeError\u001b[0m: can only concatenate str (not \"int\") to str"
     ]
    }
   ],
   "source": [
    "from models.model import User, Unit\n",
    "from extentions import db\n",
    "from run import app\n",
    "\n",
    "with app.app_context():\n",
    "\n",
    "    users = User.query.filter_by(username='unit')\n",
    "    # users = User.query.all()\n",
    "    # units = Unit.query.all()\n",
    "    # units_data = [n.as_dict() for n in units]\n",
    "    users = [n.as_dict() for n in users]\n",
    "    # units = [n.as_dict() for n in users[0]['units']]\n",
    "    print(users)\n",
    "    # print(units_data)"
   ]
  },
  {
   "cell_type": "code",
   "execution_count": null,
   "metadata": {},
   "outputs": [],
   "source": [
    "# TODO: check need to add to users table new col with rel `units`\n",
    "\n",
    "# same like upper\n",
    "# n at second row it db\n",
    "# before add migrate with rel - was one of row 'unit', '123', 1\n",
    "# TODO 2: using Base same"
   ]
  },
  {
   "cell_type": "code",
   "execution_count": null,
   "metadata": {},
   "outputs": [],
   "source": []
  },
  {
   "cell_type": "code",
   "execution_count": null,
   "metadata": {},
   "outputs": [],
   "source": []
  }
 ],
 "metadata": {
  "kernelspec": {
   "display_name": "venv_framework",
   "language": "python",
   "name": "python3"
  },
  "language_info": {
   "codemirror_mode": {
    "name": "ipython",
    "version": 3
   },
   "file_extension": ".py",
   "mimetype": "text/x-python",
   "name": "python",
   "nbconvert_exporter": "python",
   "pygments_lexer": "ipython3",
   "version": "3.12.0"
  }
 },
 "nbformat": 4,
 "nbformat_minor": 2
}

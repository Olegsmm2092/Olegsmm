{
 "cells": [
  {
   "cell_type": "code",
   "execution_count": null,
   "metadata": {},
   "outputs": [],
   "source": []
  },
  {
   "cell_type": "code",
   "execution_count": 1,
   "metadata": {},
   "outputs": [],
   "source": [
    "import sqlite3\n",
    "import os\n",
    "import json"
   ]
  },
  {
   "cell_type": "code",
   "execution_count": null,
   "metadata": {},
   "outputs": [],
   "source": [
    "from models.model import User, Unit\n",
    "from extentions import db\n",
    "from run import app\n",
    "\n",
    "with app.app_context():\n",
    "\n",
    "    users = User.query.all()\n",
    "    users = [n.as_dict() for n in users]\n",
    "    units = [n.as_dict() for n in users[3]['units']]\n",
    "    print(users)\n",
    "    print(units)"
   ]
  },
  {
   "cell_type": "code",
   "execution_count": 1,
   "metadata": {},
   "outputs": [
    {
     "name": "stdout",
     "output_type": "stream",
     "text": [
      "2023-11-04 18:51:08,463 INFO sqlalchemy.engine.Engine BEGIN (implicit)\n",
      "2023-11-04 18:51:08,467 INFO sqlalchemy.engine.Engine SELECT users.id AS users_id, users.username AS users_username, users.password AS users_password, users.password_hash AS users_password_hash, users.admin AS users_admin \n",
      "FROM users \n",
      "WHERE users.username = ?\n",
      "2023-11-04 18:51:08,468 INFO sqlalchemy.engine.Engine [generated in 0.00082s] ('enemy',)\n",
      "2023-11-04 18:51:08,473 INFO sqlalchemy.engine.Engine SELECT units.unitid AS units_unitid, units.name AS units_name, units.\"desc\" AS units_desc, units.new_col AS units_new_col, units.photo AS units_photo, units.joining_date AS units_joining_date, units.author AS units_author \n",
      "FROM units \n",
      "WHERE ? = units.author\n",
      "2023-11-04 18:51:08,474 INFO sqlalchemy.engine.Engine [generated in 0.00108s] (1,)\n",
      "[{'unitid': 1, 'name': 'enemy', 'desc': 'role warrior', 'author': 1, 'new_col': 'change me'}]\n",
      "2023-11-04 18:51:08,476 INFO sqlalchemy.engine.Engine ROLLBACK\n"
     ]
    }
   ],
   "source": [
    "from models.model import User, Unit\n",
    "from extentions import db\n",
    "from run import app\n",
    "\n",
    "with app.app_context():\n",
    "\n",
    "    users = User.query.filter_by(username='enemy')\n",
    "    users = [n.as_dict() for n in users]\n",
    "    units = [n.as_dict() for n in users[0]['units']]\n",
    "    # print(users)\n",
    "    print(units)"
   ]
  },
  {
   "cell_type": "code",
   "execution_count": 10,
   "metadata": {},
   "outputs": [
    {
     "ename": "AttributeError",
     "evalue": "'InstrumentedList' object has no attribute 'as_dict'",
     "output_type": "error",
     "traceback": [
      "\u001b[1;31m---------------------------------------------------------------------------\u001b[0m",
      "\u001b[1;31mAttributeError\u001b[0m                            Traceback (most recent call last)",
      "\u001b[1;32mc:\\Users\\olegs\\Downloads\\programming\\frameworks\\flask\\CRUD\\crudapp\\Untitle.ipynb Cell 17\u001b[0m line \u001b[0;36m1\n\u001b[1;32m----> <a href='vscode-notebook-cell:/c%3A/Users/olegs/Downloads/programming/frameworks/flask/CRUD/crudapp/Untitle.ipynb#X25sZmlsZQ%3D%3D?line=0'>1</a>\u001b[0m users[\u001b[39m0\u001b[39;49m][\u001b[39m'\u001b[39;49m\u001b[39munits\u001b[39;49m\u001b[39m'\u001b[39;49m]\u001b[39m.\u001b[39;49mas_dict()\n",
      "\u001b[1;31mAttributeError\u001b[0m: 'InstrumentedList' object has no attribute 'as_dict'"
     ]
    }
   ],
   "source": [
    "users[0]['units'].as_dict()"
   ]
  },
  {
   "cell_type": "code",
   "execution_count": null,
   "metadata": {},
   "outputs": [],
   "source": [
    "# if add migrate in the rel появляется new col not appears;\n",
    "# TODO:  ai query if after migrate in the `units` col of user table not appears `new_col`"
   ]
  },
  {
   "cell_type": "code",
   "execution_count": null,
   "metadata": {},
   "outputs": [
    {
     "ename": "",
     "evalue": "",
     "output_type": "error",
     "traceback": [
      "\u001b[1;31mRunning cells with 'venv_frameworks' requires the ipykernel package.\n",
      "\u001b[1;31mRun the following command to install 'ipykernel' into the Python environment. \n",
      "\u001b[1;31mCommand: 'c:/pyCharmProjects/jupyter_tmp/venv_frameworks/Scripts/python.exe -m pip install ipykernel -U --force-reinstall'"
     ]
    }
   ],
   "source": [
    "from models.model import User, Unit\n",
    "from extentions import db\n",
    "from run import app\n",
    "\n",
    "with app.app_context():\n",
    "\n",
    "    users = User.query.filter_by(username='unit')\n",
    "    # users = User.query.all()\n",
    "    # units = Unit.query.all()\n",
    "    # units_data = [n.as_dict() for n in units]\n",
    "    users = [n.as_dict() for n in users]\n",
    "    # units = [n.as_dict() for n in users[0]['units']]\n",
    "    print(users)\n",
    "    # print(units_data)"
   ]
  },
  {
   "cell_type": "code",
   "execution_count": null,
   "metadata": {},
   "outputs": [],
   "source": [
    "# TODO: check need to add to users table new col with rel `units`\n",
    "\n",
    "# same like upper\n",
    "# n at second row it db\n",
    "# before add migrate with rel - was one of row 'unit', '123', 1\n",
    "# TODO 2: using Base same"
   ]
  },
  {
   "cell_type": "code",
   "execution_count": null,
   "metadata": {},
   "outputs": [],
   "source": []
  },
  {
   "cell_type": "code",
   "execution_count": null,
   "metadata": {},
   "outputs": [],
   "source": []
  }
 ],
 "metadata": {
  "kernelspec": {
   "display_name": "venv_frameworks",
   "language": "python",
   "name": "venv_frameworks"
  },
  "language_info": {
   "codemirror_mode": {
    "name": "ipython",
    "version": 3
   },
   "file_extension": ".py",
   "mimetype": "text/x-python",
   "name": "python",
   "nbconvert_exporter": "python",
   "pygments_lexer": "ipython3",
   "version": "3.9.13"
  }
 },
 "nbformat": 4,
 "nbformat_minor": 2
}
